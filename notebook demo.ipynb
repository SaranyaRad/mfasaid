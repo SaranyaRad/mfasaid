{
 "cells": [
  {
   "cell_type": "markdown",
   "metadata": {},
   "source": [
    "# SAID \n",
    "### Back-end demo"
   ]
  },
  {
   "cell_type": "markdown",
   "metadata": {},
   "source": [
    "## Load the constituent data\n",
    "In the developed model, the constituent data is suspended-sediment concentration (SSC).\n",
    "This cell loads SSC observations from a tab-delimited text file, drops the sample method code, and displays the Pandas DataFrame containing the SSC observations."
   ]
  },
  {
   "cell_type": "code",
   "execution_count": null,
   "metadata": {
    "collapsed": true
   },
   "outputs": [],
   "source": [
    "%matplotlib inline\n",
    "import os\n",
    "\n",
    "from surrogatemodel import ConstituentData\n",
    "\n",
    "data_directory = r'.\\SpoonRiverAcoustics'\n",
    "\n",
    "# load constituent data (SSC)\n",
    "ssc_filename = r'spoonSSC.txt'\n",
    "scc_file_path = os.path.join(data_directory, ssc_filename)\n",
    "ssc_data = ConstituentData.read_tab_delimited_data(scc_file_path)\n",
    "\n",
    "# drop the sample method code\n",
    "ssc_data = ssc_data.drop_variables(['SampleMethod'])\n",
    "\n",
    "# show constituent dataset\n",
    "ssc_data.get_data()"
   ]
  },
  {
   "cell_type": "markdown",
   "metadata": {},
   "source": [
    "## Load the surrogate data\n",
    "The surrogate variable will ultimately be mean sediment corrected backscatter (MeanSCB). MeanSCB is calculated from raw acoustic backscatter data. The following cell loads the raw backscatter from two sets of Argonaut files and displays the raw data."
   ]
  },
  {
   "cell_type": "code",
   "execution_count": null,
   "metadata": {
    "collapsed": true
   },
   "outputs": [],
   "source": [
    "from acoustic import RawBackscatterData\n",
    "\n",
    "# load Argonaut data\n",
    "acoustic_filenames = ['SPOON001', 'SPOON002']\n",
    "advm_data = RawBackscatterData.read_argonaut_data(data_directory, acoustic_filenames[0])\n",
    "for index in range(1, len(acoustic_filenames)):\n",
    "    tmp_advm_data = RawBackscatterData.read_argonaut_data(data_directory, acoustic_filenames[index])\n",
    "    advm_data = advm_data.add_data(tmp_advm_data, keep_curr_obs=True)\n",
    "\n",
    "# show the contents of the raw data\n",
    "advm_data.get_data()"
   ]
  },
  {
   "cell_type": "markdown",
   "metadata": {},
   "source": [
    "## View the ADVM configuration parameters\n",
    "In addition to backscatter data, the RawBackscatterData.read_argonaut_data() method also loads configuration parameters from the Argonaut data set. The next cell shows the configuration parameters that have been loaded from the data set."
   ]
  },
  {
   "cell_type": "code",
   "execution_count": null,
   "metadata": {
    "collapsed": true
   },
   "outputs": [],
   "source": [
    "# show configuration parameters\n",
    "configuration_parameters = advm_data.get_configuration_parameters()\n",
    "configuration_parameters"
   ]
  },
  {
   "cell_type": "markdown",
   "metadata": {},
   "source": [
    "## Initialize ADVM backscatter data processing parameters\n",
    "In order to process the backscatter data, the processing class needs user defined processing parameters. The next cell creates and displays default processing parameters."
   ]
  },
  {
   "cell_type": "code",
   "execution_count": null,
   "metadata": {
    "collapsed": true
   },
   "outputs": [],
   "source": [
    "# create processing parameters and show default parameter values\n",
    "from acoustic import ADVMProcParam\n",
    "processing_parameters = ADVMProcParam(configuration_parameters['Number of Cells'])\n",
    "processing_parameters"
   ]
  },
  {
   "cell_type": "markdown",
   "metadata": {},
   "source": [
    "## Create an instance of the backscatter processing class\n",
    "The ADVMBackscatterDataProcessor class handles the processing of backscatter data in order to calculate the acoustic parameters MeanSCB and sediment attenuation coefficient (SAC). The following cell initializes a processor instance using the default processing parameters and displays the results."
   ]
  },
  {
   "cell_type": "code",
   "execution_count": null,
   "metadata": {
    "collapsed": true,
    "scrolled": true
   },
   "outputs": [],
   "source": [
    "# create processor and show results using default processing parameters\n",
    "from acoustic import ADVMBackscatterDataProcessor\n",
    "abs_processor = ADVMBackscatterDataProcessor(advm_data, processing_parameters)\n",
    "abs_processor.get_acoustic_parameters().get_data()"
   ]
  },
  {
   "cell_type": "markdown",
   "metadata": {},
   "source": [
    "## Create a rating model\n",
    "In the next cell, a rating model is initialized with the following information.\n",
    "\n",
    "* Constituent variable: SSC\n",
    "* Surrogate varibale: MeanSCB\n",
    "* Match method: Mean, centered around constituent observation time\n",
    "* Mean time window width: 30 minutes\n",
    "\n",
    "A scatter plot, a model fit line and confidence intervals, is also shown."
   ]
  },
  {
   "cell_type": "code",
   "execution_count": null,
   "metadata": {
    "collapsed": true,
    "scrolled": true
   },
   "outputs": [],
   "source": [
    "# create a surrogate model using SSC as the constituent and MeanSCB as the surrogate\n",
    "from acoustic import BackscatterRatingModel\n",
    "rating_model = BackscatterRatingModel(ssc_data, abs_processor, \n",
    "                                      constituent_variable='SSC', \n",
    "                                      surrogate_variables=['MeanSCB'], \n",
    "                                      match_method='mean', \n",
    "                                      match_time=30)\n",
    "rating_model.plot()"
   ]
  },
  {
   "cell_type": "markdown",
   "metadata": {},
   "source": [
    "## View backscatter profile plots"
   ]
  },
  {
   "cell_type": "code",
   "execution_count": null,
   "metadata": {
    "collapsed": true,
    "scrolled": true
   },
   "outputs": [],
   "source": [
    "fig = rating_model.plot_backscatter_profiles()\n",
    "fig.set_size_inches(15, 10)"
   ]
  },
  {
   "cell_type": "markdown",
   "metadata": {},
   "source": [
    "## Change processing parameters\n",
    "As shown, the default processing parameters do not produce satisfactory results. The created linear model is unsatisfactory, and the backscatter profiles indicate a problem with the data. \n",
    "\n",
    "The next cell changes the parameters, recalculates the acoustic parameters, and shows the recalculated values."
   ]
  },
  {
   "cell_type": "code",
   "execution_count": null,
   "metadata": {
    "collapsed": true,
    "scrolled": true
   },
   "outputs": [],
   "source": [
    "# adjust processing parameters and recalculate acoustic parameters\n",
    "processing_parameters.update({'Backscatter Values': 'Amp',\n",
    "                              'Beam': 2,\n",
    "                              'WCB Profile Adjustment': True,\n",
    "                              'Near Field Correction': True})\n",
    "abs_processor.calculate_acoustic_parameters(processing_parameters)\n",
    "abs_processor.get_acoustic_parameters().get_data()"
   ]
  },
  {
   "cell_type": "markdown",
   "metadata": {},
   "source": [
    "## Recreate a rating model"
   ]
  },
  {
   "cell_type": "code",
   "execution_count": null,
   "metadata": {
    "collapsed": true
   },
   "outputs": [],
   "source": [
    "rating_model = BackscatterRatingModel(ssc_data, abs_processor, \n",
    "                                      constituent_variable='SSC', \n",
    "                                      surrogate_variables=['MeanSCB'], \n",
    "                                      match_method='mean', \n",
    "                                      match_time=30)\n",
    "rating_model.plot()"
   ]
  },
  {
   "cell_type": "markdown",
   "metadata": {},
   "source": [
    "## Transform the constituent variable\n",
    "The plot above shows a non-linear trend. This can be corrected by log-transforming the constituent variable and bringing it inline with the physically-based and suggested form of the single-frequency sediment acoustic linear model, shown below.\n",
    "\n",
    "$$\\log_{10}{SSC}=\\beta_{0}+\\beta_{1}\\overline{SCB}$$\n",
    "\n",
    "The following cell transforms the constituent variable and shows the plot of the linear model."
   ]
  },
  {
   "cell_type": "code",
   "execution_count": null,
   "metadata": {
    "collapsed": true
   },
   "outputs": [],
   "source": [
    "# log10 transform SSC\n",
    "rating_model.set_constituent_transform('log10')\n",
    "rating_model.plot()"
   ]
  },
  {
   "cell_type": "markdown",
   "metadata": {},
   "source": [
    "## Remove outliers\n",
    "The next cell removes observations that have been determined to be outliers and shows a scatter plot of the linear regression model."
   ]
  },
  {
   "cell_type": "code",
   "execution_count": null,
   "metadata": {
    "collapsed": true
   },
   "outputs": [],
   "source": [
    "# remove outliers\n",
    "model_index = rating_model.get_model_dataset().index\n",
    "rating_model.exclude_observations(model_index[[6, 19, 37, 52]])\n",
    "rating_model.plot()"
   ]
  },
  {
   "cell_type": "markdown",
   "metadata": {},
   "source": [
    "## Plot backscatter profiles"
   ]
  },
  {
   "cell_type": "code",
   "execution_count": null,
   "metadata": {
    "collapsed": true,
    "scrolled": false
   },
   "outputs": [],
   "source": [
    "fig = rating_model.plot_backscatter_profiles()\n",
    "fig.set_size_inches(15, 10)"
   ]
  },
  {
   "cell_type": "markdown",
   "metadata": {},
   "source": [
    "## Show diagnostic plots\n",
    "So far, the model is looking pretty good. The next cell creates a single figure with multiple sets of axes and plots some standard diagnostic plots to assess the quality of the regression. The Plots, from left to right and top to bottom are\n",
    "\n",
    "* Model scatter plot (transformed constituent variable)\n",
    "* Variable scatter plot (non-transformed constituent variable)\n",
    "* Model predicted versus observed plot (transformed constituent variable)\n",
    "* Variable predicted versus observed plot (non-transformed constituent variable)\n",
    "* Residual versus fitted plot\n",
    "* Residual probability plot\n",
    "* Standardized serial correlation coefficient plot\n",
    "* Residuals plotted against time"
   ]
  },
  {
   "cell_type": "code",
   "execution_count": null,
   "metadata": {
    "collapsed": true
   },
   "outputs": [],
   "source": [
    "import matplotlib.pyplot as plt\n",
    "fig, ((ax1, ax2), (ax3, ax4), (ax5, ax6), (ax7, ax8)) = plt.subplots(nrows=4, ncols=2)\n",
    "rating_model.plot(ax=ax1)\n",
    "rating_model.plot('variable_scatter', ax=ax2)\n",
    "rating_model.plot('model_pred_vs_obs', ax=ax3)\n",
    "rating_model.plot('pred_vs_obs', ax=ax4)\n",
    "rating_model.plot('resid_vs_fitted', ax=ax5)\n",
    "rating_model.plot('resid_probability', ax=ax6)\n",
    "rating_model.plot('serial_correlation', ax=ax7)\n",
    "rating_model.plot('resid_vs_time', ax=ax8)\n",
    "fig.set_size_inches(15, 20)"
   ]
  },
  {
   "cell_type": "markdown",
   "metadata": {},
   "source": [
    "## Show a quantile plot\n",
    "The next cell shows a quantile plot of the surrogate observations from the entire time series that was loaded with model observation quantiles indicated."
   ]
  },
  {
   "cell_type": "code",
   "execution_count": null,
   "metadata": {
    "collapsed": true
   },
   "outputs": [],
   "source": [
    "rating_model.plot('quantile')"
   ]
  },
  {
   "cell_type": "markdown",
   "metadata": {},
   "source": [
    "## Generate model archive report\n",
    "In the next cell, a report containing standard ordinary least square regression statistics is generated and displayed. The report itself can be saved to a CSV file."
   ]
  },
  {
   "cell_type": "code",
   "execution_count": null,
   "metadata": {
    "collapsed": true
   },
   "outputs": [],
   "source": [
    "rating_model.get_model_report()"
   ]
  },
  {
   "cell_type": "markdown",
   "metadata": {},
   "source": [
    "## Show a predicted time series\n",
    "The cell below shows a time series of the predicted constituent using the loaded surrogate time series. The location of included model observations and excluded model observations is indicated. Missing observations would also be indicated if the model data set contained them. Also plotted is the 90% prediction interval."
   ]
  },
  {
   "cell_type": "code",
   "execution_count": null,
   "metadata": {
    "collapsed": true
   },
   "outputs": [],
   "source": [
    "fig = plt.figure()\n",
    "fig.set_size_inches(20, 10)\n",
    "ax = fig.add_subplot(111)\n",
    "rating_model.plot('time series', ax)"
   ]
  },
  {
   "cell_type": "code",
   "execution_count": null,
   "metadata": {
    "collapsed": true
   },
   "outputs": [],
   "source": []
  }
 ],
 "metadata": {
  "anaconda-cloud": {},
  "kernelspec": {
   "display_name": "Python 3",
   "language": "python",
   "name": "python3"
  },
  "language_info": {
   "codemirror_mode": {
    "name": "ipython",
    "version": 3
   },
   "file_extension": ".py",
   "mimetype": "text/x-python",
   "name": "python",
   "nbconvert_exporter": "python",
   "pygments_lexer": "ipython3",
   "version": "3.6.1"
  }
 },
 "nbformat": 4,
 "nbformat_minor": 1
}
